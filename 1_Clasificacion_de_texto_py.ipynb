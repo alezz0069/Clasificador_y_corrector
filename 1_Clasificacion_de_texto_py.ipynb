{
  "nbformat": 4,
  "nbformat_minor": 0,
  "metadata": {
    "colab": {
      "provenance": [],
      "gpuType": "T4",
      "collapsed_sections": [
        "QQcQl54nYdwq"
      ]
    },
    "kernelspec": {
      "name": "python3",
      "display_name": "Python 3"
    },
    "language_info": {
      "name": "python"
    },
    "accelerator": "GPU"
  },
  "cells": [
    {
      "cell_type": "markdown",
      "source": [
        "##LIbrerias"
      ],
      "metadata": {
        "id": "QQcQl54nYdwq"
      }
    },
    {
      "cell_type": "code",
      "source": [
        "!pip install python-doctr"
      ],
      "metadata": {
        "colab": {
          "base_uri": "https://localhost:8080/"
        },
        "id": "dhJEkT8xMLBI",
        "outputId": "8df96bc1-673c-4671-bc32-8deee7272a00"
      },
      "execution_count": 3,
      "outputs": [
        {
          "output_type": "stream",
          "name": "stdout",
          "text": [
            "Requirement already satisfied: python-doctr in /usr/local/lib/python3.10/dist-packages (0.7.0)\n",
            "Requirement already satisfied: importlib-metadata in /usr/local/lib/python3.10/dist-packages (from python-doctr) (7.0.0)\n",
            "Requirement already satisfied: numpy<2.0.0,>=1.16.0 in /usr/local/lib/python3.10/dist-packages (from python-doctr) (1.23.5)\n",
            "Requirement already satisfied: scipy<2.0.0,>=1.4.0 in /usr/local/lib/python3.10/dist-packages (from python-doctr) (1.11.4)\n",
            "Requirement already satisfied: h5py<4.0.0,>=3.1.0 in /usr/local/lib/python3.10/dist-packages (from python-doctr) (3.9.0)\n",
            "Requirement already satisfied: opencv-python<5.0.0,>=4.5.0 in /usr/local/lib/python3.10/dist-packages (from python-doctr) (4.8.0.76)\n",
            "Requirement already satisfied: pypdfium2<5.0.0,>=4.0.0 in /usr/local/lib/python3.10/dist-packages (from python-doctr) (4.25.0)\n",
            "Requirement already satisfied: pyclipper<2.0.0,>=1.2.0 in /usr/local/lib/python3.10/dist-packages (from python-doctr) (1.3.0.post5)\n",
            "Requirement already satisfied: shapely<3.0.0,>=1.6.0 in /usr/local/lib/python3.10/dist-packages (from python-doctr) (2.0.2)\n",
            "Requirement already satisfied: langdetect<2.0.0,>=1.0.9 in /usr/local/lib/python3.10/dist-packages (from python-doctr) (1.0.9)\n",
            "Requirement already satisfied: rapidfuzz<4.0.0,>=3.0.0 in /usr/local/lib/python3.10/dist-packages (from python-doctr) (3.5.2)\n",
            "Requirement already satisfied: matplotlib>=3.1.0 in /usr/local/lib/python3.10/dist-packages (from python-doctr) (3.7.1)\n",
            "Requirement already satisfied: weasyprint>=55.0 in /usr/local/lib/python3.10/dist-packages (from python-doctr) (60.2)\n",
            "Requirement already satisfied: Pillow>=10.0.0 in /usr/local/lib/python3.10/dist-packages (from python-doctr) (10.1.0)\n",
            "Requirement already satisfied: defusedxml>=0.7.0 in /usr/local/lib/python3.10/dist-packages (from python-doctr) (0.7.1)\n",
            "Requirement already satisfied: mplcursors>=0.3 in /usr/local/lib/python3.10/dist-packages (from python-doctr) (0.5.2)\n",
            "Requirement already satisfied: unidecode>=1.0.0 in /usr/local/lib/python3.10/dist-packages (from python-doctr) (1.3.7)\n",
            "Requirement already satisfied: tqdm>=4.30.0 in /usr/local/lib/python3.10/dist-packages (from python-doctr) (4.66.1)\n",
            "Requirement already satisfied: huggingface-hub>=0.5.0 in /usr/local/lib/python3.10/dist-packages (from python-doctr) (0.19.4)\n",
            "Requirement already satisfied: filelock in /usr/local/lib/python3.10/dist-packages (from huggingface-hub>=0.5.0->python-doctr) (3.13.1)\n",
            "Requirement already satisfied: fsspec>=2023.5.0 in /usr/local/lib/python3.10/dist-packages (from huggingface-hub>=0.5.0->python-doctr) (2023.6.0)\n",
            "Requirement already satisfied: requests in /usr/local/lib/python3.10/dist-packages (from huggingface-hub>=0.5.0->python-doctr) (2.31.0)\n",
            "Requirement already satisfied: pyyaml>=5.1 in /usr/local/lib/python3.10/dist-packages (from huggingface-hub>=0.5.0->python-doctr) (6.0.1)\n",
            "Requirement already satisfied: typing-extensions>=3.7.4.3 in /usr/local/lib/python3.10/dist-packages (from huggingface-hub>=0.5.0->python-doctr) (4.5.0)\n",
            "Requirement already satisfied: packaging>=20.9 in /usr/local/lib/python3.10/dist-packages (from huggingface-hub>=0.5.0->python-doctr) (23.2)\n",
            "Requirement already satisfied: six in /usr/local/lib/python3.10/dist-packages (from langdetect<2.0.0,>=1.0.9->python-doctr) (1.16.0)\n",
            "Requirement already satisfied: contourpy>=1.0.1 in /usr/local/lib/python3.10/dist-packages (from matplotlib>=3.1.0->python-doctr) (1.2.0)\n",
            "Requirement already satisfied: cycler>=0.10 in /usr/local/lib/python3.10/dist-packages (from matplotlib>=3.1.0->python-doctr) (0.12.1)\n",
            "Requirement already satisfied: fonttools>=4.22.0 in /usr/local/lib/python3.10/dist-packages (from matplotlib>=3.1.0->python-doctr) (4.46.0)\n",
            "Requirement already satisfied: kiwisolver>=1.0.1 in /usr/local/lib/python3.10/dist-packages (from matplotlib>=3.1.0->python-doctr) (1.4.5)\n",
            "Requirement already satisfied: pyparsing>=2.3.1 in /usr/local/lib/python3.10/dist-packages (from matplotlib>=3.1.0->python-doctr) (3.1.1)\n",
            "Requirement already satisfied: python-dateutil>=2.7 in /usr/local/lib/python3.10/dist-packages (from matplotlib>=3.1.0->python-doctr) (2.8.2)\n",
            "Requirement already satisfied: pydyf>=0.8.0 in /usr/local/lib/python3.10/dist-packages (from weasyprint>=55.0->python-doctr) (0.8.0)\n",
            "Requirement already satisfied: cffi>=0.6 in /usr/local/lib/python3.10/dist-packages (from weasyprint>=55.0->python-doctr) (1.16.0)\n",
            "Requirement already satisfied: html5lib>=1.1 in /usr/local/lib/python3.10/dist-packages (from weasyprint>=55.0->python-doctr) (1.1)\n",
            "Requirement already satisfied: tinycss2>=1.0.0 in /usr/local/lib/python3.10/dist-packages (from weasyprint>=55.0->python-doctr) (1.2.1)\n",
            "Requirement already satisfied: cssselect2>=0.1 in /usr/local/lib/python3.10/dist-packages (from weasyprint>=55.0->python-doctr) (0.7.0)\n",
            "Requirement already satisfied: Pyphen>=0.9.1 in /usr/local/lib/python3.10/dist-packages (from weasyprint>=55.0->python-doctr) (0.14.0)\n",
            "Requirement already satisfied: zipp>=0.5 in /usr/local/lib/python3.10/dist-packages (from importlib-metadata->python-doctr) (3.17.0)\n",
            "Requirement already satisfied: pycparser in /usr/local/lib/python3.10/dist-packages (from cffi>=0.6->weasyprint>=55.0->python-doctr) (2.21)\n",
            "Requirement already satisfied: webencodings in /usr/local/lib/python3.10/dist-packages (from cssselect2>=0.1->weasyprint>=55.0->python-doctr) (0.5.1)\n",
            "Requirement already satisfied: zopfli>=0.1.4 in /usr/local/lib/python3.10/dist-packages (from fonttools>=4.22.0->matplotlib>=3.1.0->python-doctr) (0.2.3)\n",
            "Requirement already satisfied: brotli>=1.0.1 in /usr/local/lib/python3.10/dist-packages (from fonttools>=4.22.0->matplotlib>=3.1.0->python-doctr) (1.1.0)\n",
            "Requirement already satisfied: charset-normalizer<4,>=2 in /usr/local/lib/python3.10/dist-packages (from requests->huggingface-hub>=0.5.0->python-doctr) (3.3.2)\n",
            "Requirement already satisfied: idna<4,>=2.5 in /usr/local/lib/python3.10/dist-packages (from requests->huggingface-hub>=0.5.0->python-doctr) (3.6)\n",
            "Requirement already satisfied: urllib3<3,>=1.21.1 in /usr/local/lib/python3.10/dist-packages (from requests->huggingface-hub>=0.5.0->python-doctr) (2.0.7)\n",
            "Requirement already satisfied: certifi>=2017.4.17 in /usr/local/lib/python3.10/dist-packages (from requests->huggingface-hub>=0.5.0->python-doctr) (2023.11.17)\n"
          ]
        }
      ]
    },
    {
      "cell_type": "code",
      "source": [
        "!pip install tf2onnx PyMuPDF pandas opencv-python-headless pdf2image --upgrade Pillow"
      ],
      "metadata": {
        "colab": {
          "base_uri": "https://localhost:8080/"
        },
        "id": "xDZJt5XxsA0p",
        "outputId": "931e1f7a-a040-485b-a456-06d3e4cae5f7"
      },
      "execution_count": 4,
      "outputs": [
        {
          "output_type": "stream",
          "name": "stdout",
          "text": [
            "Requirement already satisfied: tf2onnx in /usr/local/lib/python3.10/dist-packages (1.15.1)\n",
            "Requirement already satisfied: PyMuPDF in /usr/local/lib/python3.10/dist-packages (1.23.8)\n",
            "Requirement already satisfied: pandas in /usr/local/lib/python3.10/dist-packages (2.1.4)\n",
            "Requirement already satisfied: opencv-python-headless in /usr/local/lib/python3.10/dist-packages (4.8.1.78)\n",
            "Requirement already satisfied: pdf2image in /usr/local/lib/python3.10/dist-packages (1.16.3)\n",
            "Requirement already satisfied: Pillow in /usr/local/lib/python3.10/dist-packages (10.1.0)\n",
            "Requirement already satisfied: numpy>=1.14.1 in /usr/local/lib/python3.10/dist-packages (from tf2onnx) (1.23.5)\n",
            "Requirement already satisfied: onnx>=1.4.1 in /usr/local/lib/python3.10/dist-packages (from tf2onnx) (1.15.0)\n",
            "Requirement already satisfied: requests in /usr/local/lib/python3.10/dist-packages (from tf2onnx) (2.31.0)\n",
            "Requirement already satisfied: six in /usr/local/lib/python3.10/dist-packages (from tf2onnx) (1.16.0)\n",
            "Requirement already satisfied: flatbuffers>=1.12 in /usr/local/lib/python3.10/dist-packages (from tf2onnx) (23.5.26)\n",
            "Requirement already satisfied: protobuf~=3.20.2 in /usr/local/lib/python3.10/dist-packages (from tf2onnx) (3.20.3)\n",
            "Requirement already satisfied: PyMuPDFb==1.23.7 in /usr/local/lib/python3.10/dist-packages (from PyMuPDF) (1.23.7)\n",
            "Requirement already satisfied: python-dateutil>=2.8.2 in /usr/local/lib/python3.10/dist-packages (from pandas) (2.8.2)\n",
            "Requirement already satisfied: pytz>=2020.1 in /usr/local/lib/python3.10/dist-packages (from pandas) (2023.3.post1)\n",
            "Requirement already satisfied: tzdata>=2022.1 in /usr/local/lib/python3.10/dist-packages (from pandas) (2023.3)\n",
            "Requirement already satisfied: charset-normalizer<4,>=2 in /usr/local/lib/python3.10/dist-packages (from requests->tf2onnx) (3.3.2)\n",
            "Requirement already satisfied: idna<4,>=2.5 in /usr/local/lib/python3.10/dist-packages (from requests->tf2onnx) (3.6)\n",
            "Requirement already satisfied: urllib3<3,>=1.21.1 in /usr/local/lib/python3.10/dist-packages (from requests->tf2onnx) (2.0.7)\n",
            "Requirement already satisfied: certifi>=2017.4.17 in /usr/local/lib/python3.10/dist-packages (from requests->tf2onnx) (2023.11.17)\n"
          ]
        }
      ]
    },
    {
      "cell_type": "markdown",
      "source": [
        "##Code"
      ],
      "metadata": {
        "id": "N5ubpLq8YkOu"
      }
    },
    {
      "cell_type": "code",
      "source": [
        "#import shutil\n",
        "#shutil.rmtree('/content/output')\n",
        "#shutil.rmtree('/content/tiles')"
      ],
      "metadata": {
        "id": "JhcAX_yjaszC"
      },
      "execution_count": 21,
      "outputs": []
    },
    {
      "cell_type": "code",
      "source": [
        "#!python cutpdf_subprograma.py\n",
        "#!python passtheocr.py"
      ],
      "metadata": {
        "id": "gU5jtmsl4ByA"
      },
      "execution_count": null,
      "outputs": []
    },
    {
      "cell_type": "code",
      "source": [
        "import fitz  # PyMuPDF\n",
        "import pandas as pd\n",
        "import csv\n",
        "import subprocess\n",
        "import io\n",
        "from google.colab.patches import cv2_imshow\n",
        "import cv2\n",
        "import numpy as np\n",
        "import math\n",
        "import os\n",
        "from doctr.io import DocumentFile\n",
        "from doctr.models import ocr_predictor\n",
        "from PIL import Image, ImageDraw\n",
        "from typing import Any, List, Tuple"
      ],
      "metadata": {
        "id": "SeGnGyuf3KYF"
      },
      "execution_count": 5,
      "outputs": []
    },
    {
      "cell_type": "code",
      "execution_count": 24,
      "metadata": {
        "colab": {
          "base_uri": "https://localhost:8080/"
        },
        "id": "dibyPqVz_-xW",
        "outputId": "4cb8e498-27d0-4c61-d1f8-beb1cf7a9a2f"
      },
      "outputs": [
        {
          "output_type": "stream",
          "name": "stdout",
          "text": [
            "This is a PDF-Document, Most Repeated Size: A4, Page Size Counts: {'A4': 20}, Number of Pages: 20.\n"
          ]
        }
      ],
      "source": [
        "def get_pdf_size(path, tolerance=0.10):\n",
        "    # Open the PDF file\n",
        "    pdf = fitz.open(path)\n",
        "\n",
        "    # Create a dictionary to store the count of each page size\n",
        "    page_size_counts = {}\n",
        "\n",
        "    # Iterate through each page in the PDF\n",
        "    for page_number in range(pdf.page_count):\n",
        "        page = pdf[page_number]\n",
        "        width, height = page.rect.width, page.rect.height\n",
        "\n",
        "        # Define the sizes in points with a tolerance\n",
        "        sizes = {\n",
        "            'A0': (2384, 3370),\n",
        "            'A1': (1684, 2384),\n",
        "            'A2': (1191, 1684),\n",
        "            'A3': (842, 1191),\n",
        "            'A4': (595, 842),\n",
        "        }\n",
        "\n",
        "        # Compare the dimensions to determine the size within the tolerance\n",
        "        for size, dims in sizes.items():\n",
        "            if (\n",
        "                (abs(width - dims[0]) <= dims[0] * tolerance and abs(height - dims[1]) <= dims[1] * tolerance)\n",
        "                or (abs(width - dims[1]) <= dims[1] * tolerance and abs(height - dims[0]) <= dims[0] * tolerance)\n",
        "            ):\n",
        "                # Increment the count for the current page size\n",
        "                page_size_counts[size] = page_size_counts.get(size, 0) + 1\n",
        "\n",
        "    # Find the most repeated page size\n",
        "    most_repeated_size = max(page_size_counts, key=page_size_counts.get)\n",
        "\n",
        "    return most_repeated_size, page_size_counts, pdf.page_count, pdf  # Include the PDF object in the return\n",
        "\n",
        "def classify_document(pdf_path, csv_path):\n",
        "    # Check if it's a drawing\n",
        "    most_repeated_size, page_size_counts, num_pages, pdf = get_pdf_size(pdf_path)\n",
        "\n",
        "    if most_repeated_size == 'A4':\n",
        "        return f\"This is a PDF-Document, Most Repeated Size: {most_repeated_size}, Page Size Counts: {page_size_counts}, Number of Pages: {num_pages}.\"\n",
        "    else:\n",
        "        # Run the subprogram if it's a drawing\n",
        "        subprocess.run(['python', 'cutpdf_subprograma.py'])\n",
        "\n",
        "        subprocess.run(['python', 'passtheocr.py'])\n",
        "        result = subprocess.run(['python', 'passtheocr.py'], stdout=subprocess.PIPE, stderr=subprocess.PIPE, text=True)\n",
        "\n",
        "        # Read the original CSV file\n",
        "        original_df = pd.read_csv(csv_path)\n",
        "\n",
        "        # Create a new DataFrame with 'tile_num' and 'text' columns\n",
        "        new_df = pd.DataFrame(columns=['tile_num', 'text'])\n",
        "\n",
        "        # Iterate over unique tile numbers and concatenate all texts consecutively\n",
        "        for tile_num in original_df['tile_num'].unique():\n",
        "            # Filter rows for the current tile number\n",
        "            rows_for_tile = original_df[original_df['tile_num'] == tile_num]\n",
        "\n",
        "            # Concatenate all texts consecutively\n",
        "            concatenated_text = ' '.join(rows_for_tile['text'].astype(str))\n",
        "\n",
        "            # Append a new row to the new DataFrame\n",
        "            new_df = pd.concat([new_df, pd.DataFrame({'tile_num': [tile_num], 'text': [concatenated_text]})], ignore_index=True)\n",
        "\n",
        "        # Save the new DataFrame to a new CSV file\n",
        "        new_df.to_csv('modified_csv_path.csv', index=False)\n",
        "\n",
        "        df = pd.read_csv(csv_path_concatenated)\n",
        "\n",
        "        keywords = [\n",
        "            'electrical', 'electric', 'wiring', 'wiring diagram',\n",
        "            'eléctrico', 'eléctrica', 'cableado',\n",
        "            'circuito', 'circuit'\n",
        "        ]\n",
        "        is_electrical_diagram = any(df['text'].str.contains('|'.join(keywords), case=False, na=False))\n",
        "\n",
        "        # Additional classification for PDF-P&ID\n",
        "        pid_keywords = ['P&ID', 'PID']  # Add more P&ID-related keywords here\n",
        "        is_pid_document = any(df['text'].str.contains('|'.join(pid_keywords), case=False, na=False))\n",
        "\n",
        "        # Additional classification for PDF-Drawing Isometric\n",
        "        drawing_keywords = ['VISTA ISOMÉTRICA', 'VISTA ISOMÉTRICO', 'ISOMÉTRICO', 'ISOMÉTRICA']  # Add more drawing-related keywords here\n",
        "        is_drawing_Isometric = any(df['text'].str.contains('|'.join(drawing_keywords), case=False, na=False))\n",
        "\n",
        "        # Additional classification for PDF-Drawing General Arrangement\n",
        "        arragment_keywords = ['VISTA FRONTAL', 'VISTA PLANTA']  # Add more drawing-related keywords here\n",
        "        is_drawing_General = any(df['text'].str.contains('|'.join(arragment_keywords), case=False, na=False))\n",
        "\n",
        "        if is_pid_document:\n",
        "            document_type = 'PDF-P&ID'\n",
        "        elif is_electrical_diagram:\n",
        "            document_type = 'PDF-Electrical Diagram'\n",
        "        elif is_drawing_Isometric:\n",
        "            document_type = 'PDF-Drawing Isometric'\n",
        "        elif is_drawing_General:\n",
        "            document_type = 'PDF-Drawing General Arragment'\n",
        "        else:\n",
        "            document_type = 'PDF-Drawing Others'\n",
        "\n",
        "        # Extract the PDF name from the pdf_path\n",
        "        pdf_name = os.path.basename(pdf_path)\n",
        "\n",
        "        # Close the PDF file after extracting information\n",
        "        pdf.close()\n",
        "\n",
        "        return f\"This is a {document_type}-{pdf_name}, Most Repeated Size: {most_repeated_size}, Page Size Counts: {page_size_counts}, Number of Pages: {num_pages}.\"\n",
        "\n",
        "# Example usage:\n",
        "pdf_path = '2.pdf'\n",
        "csv_path = '/content/final_output.csv'\n",
        "csv_path_concatenated = '/content/modified_csv_path.csv'\n",
        "\n",
        "result_message = classify_document(pdf_path, csv_path)\n",
        "print(result_message)"
      ]
    },
    {
      "cell_type": "code",
      "source": [],
      "metadata": {
        "id": "MuL8Z91Hn1Pl"
      },
      "execution_count": null,
      "outputs": []
    }
  ]
}
